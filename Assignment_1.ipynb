{
 "cells": [
  {
   "cell_type": "markdown",
   "id": "24faea78",
   "metadata": {},
   "source": [
    "# Assignment_1 Solutions: "
   ]
  },
  {
   "cell_type": "markdown",
   "id": "d14a8118",
   "metadata": {},
   "source": [
    "#### 1. In the below elements which of them are values or an expression? eg:- values can be integer or string and expressions will be mathematical operators.\n",
    "`*`\n",
    "`'hello'`\n",
    "`-87.8`\n",
    "`-` \n",
    "`/` \n",
    "`+`\n",
    "`6` "
   ]
  },
  {
   "cell_type": "markdown",
   "id": "6413a30b",
   "metadata": {},
   "source": [
    "***Ans:*** There are 3 Values and 4 Expressions\n",
    "\n",
    "***Values:***   `'hello'` , `-87.8` , `6`\n",
    "\n",
    "***Expressions:***  `*`, `-`, `/`, `+`"
   ]
  },
  {
   "cell_type": "markdown",
   "id": "775974d5",
   "metadata": {},
   "source": [
    "#### 2. What is the difference between string and variable?"
   ]
  },
  {
   "cell_type": "markdown",
   "id": "3a11fbb1",
   "metadata": {},
   "source": [
    "**Ans:**\n",
    "\n",
    "***A variable:*** A variable is used to hold or store data. Is a name given to a memory location. A variable can be reassigned a different value. \n",
    "\n",
    "***String:*** It is a data type in python. String is a group of characters or a single character enclosed in a double quotes \" \" or single quotes ' '. String is immutable. "
   ]
  },
  {
   "cell_type": "markdown",
   "id": "52f19671",
   "metadata": {},
   "source": [
    "#### 3. Describe three different data types."
   ]
  },
  {
   "cell_type": "markdown",
   "id": "aa17c208",
   "metadata": {},
   "source": [
    "**Ans:** The three fundamental data types are `int`, `float`, `complex`\n",
    "\n",
    "***int:*** It is used to represent integer values (whole numbers).\n",
    "\n",
    "***float:*** It used to represent floating values(decimal numbers).\n",
    "\n",
    "***complex:*** It is used to represent complex numbers. The complex numbers is specified as (real part) + (imaginary part)j.\n"
   ]
  },
  {
   "cell_type": "markdown",
   "id": "84522cce",
   "metadata": {},
   "source": [
    "#### 4. What is an expression made up of? What do all expressions do?"
   ]
  },
  {
   "cell_type": "markdown",
   "id": "235b89a3",
   "metadata": {},
   "source": [
    "**Ans:** An expression is a combination of opeators, values, variable and functions. Expressions are like instructions which are evaluated by the interpreter during program execution."
   ]
  },
  {
   "cell_type": "markdown",
   "id": "d01cda6e",
   "metadata": {},
   "source": [
    "#### 5. This assignment statements, like spam = 10. What is the difference between an expression and a statement?"
   ]
  },
  {
   "cell_type": "markdown",
   "id": "20760a05",
   "metadata": {},
   "source": [
    "**Ans:** \n",
    "\n",
    "***Expression:*** An expression is the combination of operators,values, variable and functions. Expressions are like instructions which are evaluated by the interpreter during program execution, which means it finds the value of the expression. \n",
    "\n",
    "\n",
    "***Statment:*** A statement is a standalone unit of execution and doesn't return anything. Eg: creating a variable and printing a variable/value."
   ]
  },
  {
   "cell_type": "markdown",
   "id": "3409ab0e",
   "metadata": {},
   "source": [
    "#### 6. After running the following code, what does the variable bacon contain?\n",
    "bacon = 22\n",
    "\n",
    "bacon + 1"
   ]
  },
  {
   "cell_type": "code",
   "execution_count": 1,
   "id": "f3604a95",
   "metadata": {},
   "outputs": [],
   "source": [
    "bacon = 22"
   ]
  },
  {
   "cell_type": "code",
   "execution_count": 2,
   "id": "58e20178",
   "metadata": {},
   "outputs": [
    {
     "data": {
      "text/plain": [
       "23"
      ]
     },
     "execution_count": 2,
     "metadata": {},
     "output_type": "execute_result"
    }
   ],
   "source": [
    "bacon + 1"
   ]
  },
  {
   "cell_type": "code",
   "execution_count": 3,
   "id": "541fa779",
   "metadata": {},
   "outputs": [
    {
     "name": "stdout",
     "output_type": "stream",
     "text": [
      "22\n"
     ]
    }
   ],
   "source": [
    "print(bacon)"
   ]
  },
  {
   "cell_type": "markdown",
   "id": "7d1b9132",
   "metadata": {},
   "source": [
    "**Ans:** After running the above code the variable contains value 22. \n",
    "After the operation `bacon+1` we are not performing the reassignment hence the value remain `22`.  "
   ]
  },
  {
   "cell_type": "markdown",
   "id": "a1b717af",
   "metadata": {},
   "source": [
    "#### 7. What should the values of the following two terms be?\n",
    "'spam' + 'spamspam'\n",
    "\n",
    "'spam' * 3"
   ]
  },
  {
   "cell_type": "code",
   "execution_count": 4,
   "id": "e0cc446f",
   "metadata": {},
   "outputs": [
    {
     "data": {
      "text/plain": [
       "'spamspamspam'"
      ]
     },
     "execution_count": 4,
     "metadata": {},
     "output_type": "execute_result"
    }
   ],
   "source": [
    "'spam' + 'spamspam'"
   ]
  },
  {
   "cell_type": "code",
   "execution_count": 5,
   "id": "210fc7b8",
   "metadata": {},
   "outputs": [
    {
     "data": {
      "text/plain": [
       "'spamspamspam'"
      ]
     },
     "execution_count": 5,
     "metadata": {},
     "output_type": "execute_result"
    }
   ],
   "source": [
    "'spam' * 3"
   ]
  },
  {
   "cell_type": "markdown",
   "id": "20f771c6",
   "metadata": {},
   "source": [
    "**Ans:** The value of both the terms evaluate to `'spamspamspam'`. The first operation is a `'String concantenation'`, the second operation is `'String multiplication'`. "
   ]
  },
  {
   "cell_type": "markdown",
   "id": "0953a6ae",
   "metadata": {},
   "source": [
    "#### 8. Why is eggs a valid variable name while 100 is invalid?"
   ]
  },
  {
   "cell_type": "markdown",
   "id": "cfa9269d",
   "metadata": {},
   "source": [
    "**Ans:** As per python, the variable name should not begin with a numeric value."
   ]
  },
  {
   "cell_type": "markdown",
   "id": "a8676e7e",
   "metadata": {},
   "source": [
    "#### 9. What three functions can be used to get the integer, floating-point number, or string version of a value?"
   ]
  },
  {
   "cell_type": "markdown",
   "id": "9fd9f57f",
   "metadata": {},
   "source": [
    "**Ans:** The int(), float() and the str() functions can be used to typecast the integer, floating-point or string version of a value. "
   ]
  },
  {
   "cell_type": "markdown",
   "id": "c6c534b0",
   "metadata": {},
   "source": [
    "#### 10. Why does this expression cause an error? How can you fix it?\n",
    "'I have eaten ' + 99 + ' burritos.' "
   ]
  },
  {
   "cell_type": "code",
   "execution_count": 6,
   "id": "3e5f8427",
   "metadata": {},
   "outputs": [
    {
     "ename": "TypeError",
     "evalue": "can only concatenate str (not \"int\") to str",
     "output_type": "error",
     "traceback": [
      "\u001b[1;31m---------------------------------------------------------------------------\u001b[0m",
      "\u001b[1;31mTypeError\u001b[0m                                 Traceback (most recent call last)",
      "\u001b[1;32m~\\AppData\\Local\\Temp/ipykernel_4296/1774935878.py\u001b[0m in \u001b[0;36m<module>\u001b[1;34m\u001b[0m\n\u001b[1;32m----> 1\u001b[1;33m \u001b[1;34m'I have eaten '\u001b[0m \u001b[1;33m+\u001b[0m \u001b[1;36m99\u001b[0m \u001b[1;33m+\u001b[0m \u001b[1;34m' burritos.'\u001b[0m\u001b[1;33m\u001b[0m\u001b[1;33m\u001b[0m\u001b[0m\n\u001b[0m",
      "\u001b[1;31mTypeError\u001b[0m: can only concatenate str (not \"int\") to str"
     ]
    }
   ],
   "source": [
    "'I have eaten ' + 99 + ' burritos.'"
   ]
  },
  {
   "cell_type": "markdown",
   "id": "2e5fa122",
   "metadata": {},
   "source": [
    "**Ans:** In the above we are concanating integer value 99 to string, hence python throws TypeError. We can fix this by casting 99 to string."
   ]
  },
  {
   "cell_type": "code",
   "execution_count": 7,
   "id": "06ab3654",
   "metadata": {},
   "outputs": [
    {
     "data": {
      "text/plain": [
       "'I have eaten 99 burritos.'"
      ]
     },
     "execution_count": 7,
     "metadata": {},
     "output_type": "execute_result"
    }
   ],
   "source": [
    "'I have eaten ' + str(99) + ' burritos.'"
   ]
  }
 ],
 "metadata": {
  "kernelspec": {
   "display_name": "Python 3 (ipykernel)",
   "language": "python",
   "name": "python3"
  },
  "language_info": {
   "codemirror_mode": {
    "name": "ipython",
    "version": 3
   },
   "file_extension": ".py",
   "mimetype": "text/x-python",
   "name": "python",
   "nbconvert_exporter": "python",
   "pygments_lexer": "ipython3",
   "version": "3.9.7"
  }
 },
 "nbformat": 4,
 "nbformat_minor": 5
}

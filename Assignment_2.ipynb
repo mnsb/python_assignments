{
 "cells": [
  {
   "cell_type": "markdown",
   "id": "187aff21",
   "metadata": {},
   "source": [
    "# Assignment_2 Solutions:"
   ]
  },
  {
   "cell_type": "markdown",
   "id": "e44795a3",
   "metadata": {},
   "source": [
    "### 1.What are the two values of the Boolean data type? How do you write them? "
   ]
  },
  {
   "cell_type": "markdown",
   "id": "8fd22620",
   "metadata": {},
   "source": [
    "**Ans:** The two values of boolean data type are `True` and `False`. Both the data types begin with capital letters."
   ]
  },
  {
   "cell_type": "markdown",
   "id": "ebacc166",
   "metadata": {},
   "source": [
    "### 2. What are the three different types of Boolean operators? "
   ]
  },
  {
   "cell_type": "markdown",
   "id": "2dc430d1",
   "metadata": {},
   "source": [
    "**Ans:** The different boolean operators in python are: `and` , `or` and `not`."
   ]
  },
  {
   "cell_type": "markdown",
   "id": "7c9d5495",
   "metadata": {},
   "source": [
    "### 3. Make a list of each Boolean operator's truth tables (i.e. every possible combination of Boolean values for the operator and what it evaluate )."
   ]
  },
  {
   "cell_type": "markdown",
   "id": "71f9a079",
   "metadata": {},
   "source": [
    "**Ans:** The truth table of boolean opreators is as follows:\n",
    "\n",
    "* **`and` operator:**\n",
    "\n",
    "`and` operator results in True only when both the conditions are True\n",
    "\n",
    "_True and True is True   \n",
    "False and True is False   \n",
    "True and False is False   \n",
    "False and False is False_  \n",
    "\n",
    "* **`or` operator:**  \n",
    "\n",
    "`or` operator results in True when any one of the conditions is True, and False when both condition is False.\n",
    "\n",
    "_True or True is True   \n",
    "False or True is True   \n",
    "True or False is True   \n",
    "False or False is False_  \n",
    "\n",
    "* **`not` operator:**  \n",
    "\n",
    "`not` operator gives negation of the condition\n",
    "\n",
    "_not of False is True   \n",
    "not of True is False_  "
   ]
  },
  {
   "cell_type": "markdown",
   "id": "668ed0e1",
   "metadata": {},
   "source": [
    "### 4. What are the values of the following expressions?\n",
    "* (5 > 4) and (3 == 5)\n",
    "* not (5 > 4)\n",
    "* (5 > 4) or (3 == 5)\n",
    "* not ((5 > 4) or (3 == 5))\n",
    "* (True and True) and (True == False)\n",
    "* (not False) or (not True)"
   ]
  },
  {
   "cell_type": "markdown",
   "id": "9ac0d4d2",
   "metadata": {},
   "source": [
    "**Ans:**"
   ]
  },
  {
   "cell_type": "code",
   "execution_count": 1,
   "id": "a4ba8de9",
   "metadata": {},
   "outputs": [
    {
     "name": "stdout",
     "output_type": "stream",
     "text": [
      "False\n",
      "False\n",
      "True\n",
      "False\n",
      "False\n",
      "True\n"
     ]
    }
   ],
   "source": [
    "print((5 > 4) and (3 == 5)) # True and False = False\n",
    "print(not (5 > 4))          # not(True) = False\n",
    "print((5 > 4) or (3 == 5))  # True or False = True\n",
    "print(not ((5 > 4) or (3 == 5))) # not(True) = False\n",
    "print((True and True) and (True == False)) # True and False = False\n",
    "print((not False) or (not True)) # True or False = True"
   ]
  },
  {
   "cell_type": "markdown",
   "id": "99e62b49",
   "metadata": {},
   "source": [
    "### 5. What are the six comparison operators?"
   ]
  },
  {
   "cell_type": "markdown",
   "id": "37e7a9ce",
   "metadata": {},
   "source": [
    "**Ans:** The six comparison operators are:\n",
    "`<`, `<=`, `>`, `=>` , `!=`, `==`"
   ]
  },
  {
   "cell_type": "markdown",
   "id": "ebbd65b2",
   "metadata": {},
   "source": [
    "### 6. How do you tell the difference between the equal to and assignment operators?Describe a condition and when you would use one."
   ]
  },
  {
   "cell_type": "markdown",
   "id": "3f14aadb",
   "metadata": {},
   "source": [
    "**Ans:** \n",
    "Assignment operator `=` is used to assign value in a variable. Whereas equal to operator `==` is used to compare two values and results in a boolean value. "
   ]
  },
  {
   "cell_type": "markdown",
   "id": "4a21f107",
   "metadata": {},
   "source": [
    "### 7. Identify the three blocks in this code:\n",
    "spam = 0  \n",
    "if spam == 10:  \n",
    "print('eggs')  \n",
    "if spam > 5:  \n",
    "print('bacon')  \n",
    "else:  \n",
    "print('ham')  \n",
    "print('spam')  \n",
    "print('spam')  "
   ]
  },
  {
   "cell_type": "code",
   "execution_count": 2,
   "id": "35535354",
   "metadata": {},
   "outputs": [
    {
     "name": "stdout",
     "output_type": "stream",
     "text": [
      "ham\n",
      "spam\n",
      "spam\n"
     ]
    }
   ],
   "source": [
    "spam = 0\n",
    "if spam == 10:\n",
    "    print('eggs') # block 1\n",
    "if spam > 5:\n",
    "    print('bacon') # block 2 \n",
    "else:\n",
    "    print('ham') # block 3\n",
    "    print('spam')\n",
    "    print('spam')"
   ]
  },
  {
   "cell_type": "markdown",
   "id": "8049d72d",
   "metadata": {},
   "source": [
    "### 8. Write code that prints Hello if 1 is stored in spam, prints Howdy if 2 is stored in spam, and prints Greetings! if anything else is stored in spam."
   ]
  },
  {
   "cell_type": "code",
   "execution_count": 3,
   "id": "68a0ae77",
   "metadata": {},
   "outputs": [],
   "source": [
    "def spam(spam):\n",
    "    if spam==1:\n",
    "        print('Hello')\n",
    "    elif spam==2:\n",
    "        print('Howdy')\n",
    "    else:\n",
    "        print(\"Greetings\")"
   ]
  },
  {
   "cell_type": "code",
   "execution_count": 4,
   "id": "2e26963c",
   "metadata": {},
   "outputs": [
    {
     "name": "stdout",
     "output_type": "stream",
     "text": [
      "Hello\n",
      "Howdy\n",
      "Greetings\n"
     ]
    }
   ],
   "source": [
    "spam(1)\n",
    "spam(2)\n",
    "spam(45)"
   ]
  },
  {
   "cell_type": "markdown",
   "id": "0ef12f80",
   "metadata": {},
   "source": [
    "### 9.If your programme is stuck in an endless loop, what keys you’ll press?"
   ]
  },
  {
   "cell_type": "markdown",
   "id": "92350877",
   "metadata": {},
   "source": [
    "**Ans:** If program stucks in infinite/endless loop press `ctrl+c`."
   ]
  },
  {
   "cell_type": "markdown",
   "id": "5430b429",
   "metadata": {},
   "source": [
    "### 10. How can you tell the difference between break and continue?"
   ]
  },
  {
   "cell_type": "markdown",
   "id": "50bfa521",
   "metadata": {},
   "source": [
    "**Ans:** When a `break` statment is encountered inside a loop, the loop is immediately terminated and the program control resumes to next statment following the loop. In case of nested loop, it terminates the loop containg the break statment.\n",
    "\n",
    "`continue` statment is used when we want to jump next iteration of the loop. When continue is encountered it skips the remaining code and continues the current flow of program. In case of inner loop the continue statment jumps to inner loop only.   "
   ]
  },
  {
   "cell_type": "markdown",
   "id": "7156261f",
   "metadata": {},
   "source": [
    "### 11. In a for loop, what is the difference between range(10), range(0, 10), and range(0, 10, 1)?"
   ]
  },
  {
   "cell_type": "markdown",
   "id": "6ea8b53a",
   "metadata": {},
   "source": [
    "**Ans:** The different with attributes of range functions are as follows:\n",
    "\n",
    "* range(10): Implicitly provides a range of values from 0 to 9 (not including 10)\n",
    "* range(0,10): Here the first attribute explicitly tells to start the value from 0.\n",
    "* range(0,10,1): Here the third attribute explicitly tells to increment the value in step size of 1. "
   ]
  },
  {
   "cell_type": "markdown",
   "id": "2d11231f",
   "metadata": {},
   "source": [
    "### 12. Write a short program that prints the numbers 1 to 10 using a for loop. Then write an equivalent program that prints the numbers 1 to 10 using a while loop."
   ]
  },
  {
   "cell_type": "code",
   "execution_count": 5,
   "id": "051e22c0",
   "metadata": {},
   "outputs": [
    {
     "name": "stdout",
     "output_type": "stream",
     "text": [
      "Printing the numbers 1 to 10\n",
      "\n",
      "---Using for loop---\n",
      "1 2 3 4 5 6 7 8 9 10 \n",
      "\n",
      "---Using while loop---\n",
      "1 2 3 4 5 6 7 8 9 10 "
     ]
    }
   ],
   "source": [
    "print(\"Printing the numbers 1 to 10\")\n",
    "print(\"\\n---Using for loop---\")\n",
    "for i in range(1,11):\n",
    "    print (str(i), end=' ')\n",
    "\n",
    "print(\"\\n\\n---Using while loop---\")\n",
    "i=1\n",
    "while i<11:\n",
    "    print(i, end=' ')\n",
    "    i=i+1"
   ]
  },
  {
   "cell_type": "markdown",
   "id": "4394841f",
   "metadata": {},
   "source": [
    "### 13. If you had a function named bacon() inside a module named spam, how would you call it after importing spam?"
   ]
  },
  {
   "cell_type": "markdown",
   "id": "7cb0fa97",
   "metadata": {},
   "source": [
    "**Ans:** After importing spam the function can be called as `spam.bacon()`"
   ]
  }
 ],
 "metadata": {
  "kernelspec": {
   "display_name": "Python 3 (ipykernel)",
   "language": "python",
   "name": "python3"
  },
  "language_info": {
   "codemirror_mode": {
    "name": "ipython",
    "version": 3
   },
   "file_extension": ".py",
   "mimetype": "text/x-python",
   "name": "python",
   "nbconvert_exporter": "python",
   "pygments_lexer": "ipython3",
   "version": "3.9.7"
  }
 },
 "nbformat": 4,
 "nbformat_minor": 5
}
